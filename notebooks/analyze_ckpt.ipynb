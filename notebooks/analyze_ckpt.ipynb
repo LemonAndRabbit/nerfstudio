{
 "cells": [
  {
   "cell_type": "code",
   "execution_count": 1,
   "metadata": {},
   "outputs": [],
   "source": [
    "import torch"
   ]
  },
  {
   "cell_type": "code",
   "execution_count": 2,
   "metadata": {},
   "outputs": [],
   "source": [
    "ckpt = torch.load('/data1/zy50/workspace_ns/nerfstudio/outputs/blender_lego_2023-04-18_test_shrinking/tensorf/2023-04-18_213041/nerfstudio_models/step-000002000.ckpt')"
   ]
  },
  {
   "cell_type": "code",
   "execution_count": 3,
   "metadata": {},
   "outputs": [
    {
     "data": {
      "text/plain": [
       "odict_keys(['_model.device_indicator_param', '_model.field.aabb', '_model.field.density_encoding.plane_coef.0', '_model.field.density_encoding.plane_coef.1', '_model.field.density_encoding.plane_coef.2', '_model.field.density_encoding.line_coef.0', '_model.field.density_encoding.line_coef.1', '_model.field.density_encoding.line_coef.2', '_model.field.color_encoding.plane_coef.0', '_model.field.color_encoding.plane_coef.1', '_model.field.color_encoding.plane_coef.2', '_model.field.color_encoding.line_coef.0', '_model.field.color_encoding.line_coef.1', '_model.field.color_encoding.line_coef.2', '_model.field.mlp_head.layers.0.weight', '_model.field.mlp_head.layers.0.bias', '_model.field.mlp_head.layers.1.weight', '_model.field.mlp_head.layers.1.bias', '_model.field.B.weight', '_model.field.field_output_rgb.net.weight', '_model.field.field_output_rgb.net.bias', '_model.lpips.net.scaling_layer.shift', '_model.lpips.net.scaling_layer.scale', '_model.lpips.net.net.slice1.0.weight', '_model.lpips.net.net.slice1.0.bias', '_model.lpips.net.net.slice2.3.weight', '_model.lpips.net.net.slice2.3.bias', '_model.lpips.net.net.slice3.6.weight', '_model.lpips.net.net.slice3.6.bias', '_model.lpips.net.net.slice4.8.weight', '_model.lpips.net.net.slice4.8.bias', '_model.lpips.net.net.slice5.10.weight', '_model.lpips.net.net.slice5.10.bias', '_model.lpips.net.lin0.model.1.weight', '_model.lpips.net.lin1.model.1.weight', '_model.lpips.net.lin2.model.1.weight', '_model.lpips.net.lin3.model.1.weight', '_model.lpips.net.lin4.model.1.weight', '_model.lpips.net.lins.0.model.1.weight', '_model.lpips.net.lins.1.model.1.weight', '_model.lpips.net.lins.2.model.1.weight', '_model.lpips.net.lins.3.model.1.weight', '_model.lpips.net.lins.4.model.1.weight'])"
      ]
     },
     "execution_count": 3,
     "metadata": {},
     "output_type": "execute_result"
    }
   ],
   "source": [
    "ckpt['pipeline'].keys()"
   ]
  },
  {
   "cell_type": "code",
   "execution_count": 4,
   "metadata": {},
   "outputs": [
    {
     "data": {
      "text/plain": [
       "tensor([[-1.5000, -1.5000, -1.5000],\n",
       "        [ 1.5000,  1.5000,  1.5000]], device='cuda:0')"
      ]
     },
     "execution_count": 4,
     "metadata": {},
     "output_type": "execute_result"
    }
   ],
   "source": [
    "ckpt['pipeline']['_model.field.aabb']"
   ]
  },
  {
   "cell_type": "code",
   "execution_count": 7,
   "metadata": {},
   "outputs": [
    {
     "data": {
      "text/plain": [
       "dict_keys(['step', 'pipeline', 'optimizers', 'scalers'])"
      ]
     },
     "execution_count": 7,
     "metadata": {},
     "output_type": "execute_result"
    }
   ],
   "source": [
    "ckpt.keys()"
   ]
  },
  {
   "cell_type": "code",
   "execution_count": 10,
   "metadata": {},
   "outputs": [
    {
     "data": {
      "text/plain": [
       "dict_keys([])"
      ]
     },
     "execution_count": 10,
     "metadata": {},
     "output_type": "execute_result"
    }
   ],
   "source": [
    "ckpt['scalers'].keys()"
   ]
  }
 ],
 "metadata": {
  "kernelspec": {
   "display_name": "Python 3",
   "language": "python",
   "name": "python3"
  },
  "language_info": {
   "codemirror_mode": {
    "name": "ipython",
    "version": 3
   },
   "file_extension": ".py",
   "mimetype": "text/x-python",
   "name": "python",
   "nbconvert_exporter": "python",
   "pygments_lexer": "ipython3",
   "version": "3.9.16"
  },
  "orig_nbformat": 4
 },
 "nbformat": 4,
 "nbformat_minor": 2
}
